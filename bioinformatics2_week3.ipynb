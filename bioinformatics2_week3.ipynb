{
 "cells": [
  {
   "cell_type": "markdown",
   "source": [
    "# 1.4 Sequencing Antibiotic by Shattering Them into Pieces\n",
    "\n",
    "## Introduction to mass spectrometry\n",
    "[NRPs](https://en.wikipedia.org/wiki/Nonribosomal_peptide)는 안타깝게도 ribosome을 제거해도 생성이된다. 즉, 중심이론의 예외에 해당한다. 게다가 NRPs 는 선형이 아니라 cyclic 하기 때문에 sequencing하는 것이 더 어렵다. 이를 해결하기 위해 **Mass spectrometer** 를 사용한다. Mass spectrometer는 원자의 무게를 재는 저울이다. 무게를 재는 단위로는 **Dalton** 을 사용하는데, 1 Da(Dalton) 은 양성자(proton)나 중성자(neutron) 한개의 무개를 의미한다. 예를 들면 C2H3ON은 2·12 + 3·1 + 1·16 + 1·14 = 57 Da 가 된다. 실제로 원자의 무게는 정수로 정확히 떨어지지는 않지만 단순하게 하기위해 정수만을 사용한다.\n",
    "\n",
    "NRPs sequencing을 어렵게 하는 것은 NRPs가 linear 하지 않고 cyclic 하다는 점이다. 즉, ABC 는 CAB,BCA 와 같다. mass spectrometer는 NRPs 를 sequencing 하기 위해 이 cyclic한 peptide를 잘게 쪼갠다. 그리고, 이렇게 쪼개진 peptide의 집합을 **Experimental Spectrum** 이라고 한다.\n",
    "\n",
    "여기서 목적은 원자들의 무게와 mass spectrometer가 쪼개놓은 조각들을 이용하여 peptide를 sequencing 하는 것이다.\n",
    "\n",
    "## The Cyclopeptide Sequencing Problem\n",
    "\n",
    "### 원문\n",
    "For now, we will assume for simplicity that the mass spectrometer breaks the copies of a cyclic peptide at every possible two bonds, so that the resulting experimental spectrum contains the masses of all possible linear fragments of the peptide, which are called subpeptides. For example, the cyclic peptide NQEL has 12 subpeptides: N, Q, E, L, NQ, QE, EL, LN, NQE, QEL, ELN, and LNQ. We will also assume that subpeptides may occur more than once if an amino acid occurs multiple times in the peptide (e.g., ELEL also has 12 subpeptides: E, L, E, L, EL, LE, EL, LE, ELE, LEL, ELE, and LEL.\n",
    "\n",
    "### 자의적 해석\n",
    "ELEL을 잘라놓으면 E, L, E, L, EL, LE, EL, LE, ELE, LEL, ELE, LEL 와 같이 쪼개진다. 즉, cyclic 한 peptide를 1개씩 쪼개놓을 수도 있고, 2개씩 쪼개 놓을 수도 있고, 3개씩 쪼개놓을 수도 있다는 것이다.(원래의 peptide는 존재하지 않게된다.)\n",
    "\n",
    "### Problme\n",
    "\n",
    "**Excercise Break**: How many subpeptides does a cyclic peptide of length n have?\n",
    "\n",
    "어떤 peptide의 길이가 주어졌을 때, 그 peptide가 쪼개질 수 있는 가지수는 몇가지인가?"
   ],
   "metadata": {
    "collapsed": false
   }
  },
  {
   "cell_type": "code",
   "execution_count": 1,
   "metadata": {
    "collapsed": true
   },
   "outputs": [],
   "source": [
    "import toolz as tz\n",
    "from toolz.curried import *\n",
    "from operator import *"
   ]
  },
  {
   "cell_type": "code",
   "execution_count": null,
   "outputs": [],
   "source": [],
   "metadata": {
    "collapsed": false,
    "pycharm": {
     "name": "#%%\n"
    }
   }
  }
 ],
 "metadata": {
  "kernelspec": {
   "display_name": "Python 3",
   "language": "python",
   "name": "python3"
  },
  "language_info": {
   "codemirror_mode": {
    "name": "ipython",
    "version": 2
   },
   "file_extension": ".py",
   "mimetype": "text/x-python",
   "name": "python",
   "nbconvert_exporter": "python",
   "pygments_lexer": "ipython2",
   "version": "2.7.6"
  }
 },
 "nbformat": 4,
 "nbformat_minor": 0
}